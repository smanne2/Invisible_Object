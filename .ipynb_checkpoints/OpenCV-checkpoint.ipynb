{
 "cells": [
  {
   "cell_type": "code",
   "execution_count": 4,
   "metadata": {},
   "outputs": [],
   "source": [
    "import cv2\n",
    "import numpy as np\n",
    "import time\n",
    "\n",
    "\n",
    "cap = cv2.VideoCapture(0)\n",
    "time.sleep(3)\n",
    "count = 0\n",
    "background = 0\n",
    "\n",
    "for i in range(60):\n",
    "    ret, background = cap.read()\n",
    "background=np.flip(background,axis=1)\n",
    "\n",
    "while(cap.isOpened()):\n",
    "    ret, image = cap.read()\n",
    "    if not ret:\n",
    "        break\n",
    "    count+=1\n",
    "    image = np.flip(image, axis=1)\n",
    "    \n",
    "    hsv = cv2.cvtColor(image, cv2.COLOR_BGR2HSV)\n",
    "    \n",
    "    lower_range = np.array([235,205,148])\n",
    "    upper_range = np.array([245,205,148])\n",
    "    mask1 = cv2.inRange(hsv, lower_range, upper_range)\n",
    "    \n",
    "    lower_range = np.array([245,195,138])\n",
    "    upper_range = np.array([255,205,148])\n",
    "    mask2 = cv2.inRange(hsv, lower_range, upper_range)\n",
    "    \n",
    "    mask1 = mask1 + mask2\n",
    "    \n",
    "    mask1 = cv2.morphologyEx(mask1, cv2.MORPH_OPEN, np.ones((3,3), np.uint8), iterations = 2)\n",
    "    mask1 = cv2.dilate(mask1, np.ones((3,3), np.uint8), iterations=1)\n",
    "    mask2 = cv2.bitwise_not(mask1)\n",
    "    \n",
    "    res1 = cv2.bitwise_and(background, background, mask = mask1)\n",
    "    res2 = cv2.bitwise_and(image, image, mask = mask2)\n",
    "    final_output = cv2.addWeighted(res1, 1, res2, 1, 0)\n",
    "    \n",
    "    cv2.imshow(\"hello\",final_output)\n",
    "    k= cv2.waitKey(10)\n",
    "    if k==27:\n",
    "        break\n",
    "cv2.destroyAllWindows()\n",
    "cap.release()\n",
    "\n"
   ]
  }
 ],
 "metadata": {
  "kernelspec": {
   "display_name": "Python 3",
   "language": "python",
   "name": "python3"
  },
  "language_info": {
   "codemirror_mode": {
    "name": "ipython",
    "version": 3
   },
   "file_extension": ".py",
   "mimetype": "text/x-python",
   "name": "python",
   "nbconvert_exporter": "python",
   "pygments_lexer": "ipython3",
   "version": "3.6.5"
  }
 },
 "nbformat": 4,
 "nbformat_minor": 2
}
